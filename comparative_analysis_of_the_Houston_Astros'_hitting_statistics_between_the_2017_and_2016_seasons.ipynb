{
  "nbformat": 4,
  "nbformat_minor": 0,
  "metadata": {
    "colab": {
      "provenance": [],
      "authorship_tag": "ABX9TyOqDViQmTxzhoutFR8TAAm+",
      "include_colab_link": true
    },
    "kernelspec": {
      "name": "python3",
      "display_name": "Python 3"
    },
    "language_info": {
      "name": "python"
    }
  },
  "cells": [
    {
      "cell_type": "markdown",
      "metadata": {
        "id": "view-in-github",
        "colab_type": "text"
      },
      "source": [
        "<a href=\"https://colab.research.google.com/github/jackschmell/Baseball-AI/blob/main/comparative_analysis_of_the_Houston_Astros'_hitting_statistics_between_the_2017_and_2016_seasons.ipynb\" target=\"_parent\"><img src=\"https://colab.research.google.com/assets/colab-badge.svg\" alt=\"Open In Colab\"/></a>"
      ]
    },
    {
      "cell_type": "code",
      "execution_count": null,
      "metadata": {
        "id": "o1GLLpZncT32"
      },
      "outputs": [],
      "source": [
        "#  comparative analysis of the Houston Astros' hitting statistics between the 2017 and 2016 seasons"
      ]
    },
    {
      "cell_type": "markdown",
      "source": [
        "Setup : Import necessary packages"
      ],
      "metadata": {
        "id": "9eh235wIczEz"
      }
    },
    {
      "cell_type": "code",
      "source": [
        "import pandas as pd\n",
        "import matplotlib.pyplot as plt\n",
        "import numpy as np"
      ],
      "metadata": {
        "id": "QL8VPYKNc2AT"
      },
      "execution_count": null,
      "outputs": []
    },
    {
      "cell_type": "code",
      "source": [
        "# Load data from CSV files\n",
        "df2017 = pd.read_csv('/FanGraphs Leaderboard (1).csv')\n",
        "df2016 = pd.read_csv('/FanGraphs Leaderboard (2).csv')"
      ],
      "metadata": {
        "id": "TAbD_OT-c6Zb"
      },
      "execution_count": null,
      "outputs": []
    },
    {
      "cell_type": "code",
      "source": [
        "df2017 # 2017 Astros team batting stats"
      ],
      "metadata": {
        "colab": {
          "base_uri": "https://localhost:8080/",
          "height": 81
        },
        "id": "K0fF-rGKd0k8",
        "outputId": "f33ebf3f-fd65-4648-b2e7-3e4a367662d4"
      },
      "execution_count": null,
      "outputs": [
        {
          "output_type": "execute_result",
          "data": {
            "text/plain": [
              "  Team    PA   BB%     K%  BB/K    AVG    OBP    SLG    OPS    ISO  Spd  \\\n",
              "0  HOU  6271  8.1%  17.3%  0.47  0.282  0.346  0.478  0.823  0.196  4.5   \n",
              "\n",
              "   BABIP  UBR  wGDP  wSB  wRC   wRAA   wOBA  wRC+  \n",
              "0  0.309  3.2  -1.6 -2.0  911  146.8  0.349   121  "
            ],
            "text/html": [
              "\n",
              "  <div id=\"df-b20c1ce7-7195-4e4b-8c99-0801e83a7aff\">\n",
              "    <div class=\"colab-df-container\">\n",
              "      <div>\n",
              "<style scoped>\n",
              "    .dataframe tbody tr th:only-of-type {\n",
              "        vertical-align: middle;\n",
              "    }\n",
              "\n",
              "    .dataframe tbody tr th {\n",
              "        vertical-align: top;\n",
              "    }\n",
              "\n",
              "    .dataframe thead th {\n",
              "        text-align: right;\n",
              "    }\n",
              "</style>\n",
              "<table border=\"1\" class=\"dataframe\">\n",
              "  <thead>\n",
              "    <tr style=\"text-align: right;\">\n",
              "      <th></th>\n",
              "      <th>Team</th>\n",
              "      <th>PA</th>\n",
              "      <th>BB%</th>\n",
              "      <th>K%</th>\n",
              "      <th>BB/K</th>\n",
              "      <th>AVG</th>\n",
              "      <th>OBP</th>\n",
              "      <th>SLG</th>\n",
              "      <th>OPS</th>\n",
              "      <th>ISO</th>\n",
              "      <th>Spd</th>\n",
              "      <th>BABIP</th>\n",
              "      <th>UBR</th>\n",
              "      <th>wGDP</th>\n",
              "      <th>wSB</th>\n",
              "      <th>wRC</th>\n",
              "      <th>wRAA</th>\n",
              "      <th>wOBA</th>\n",
              "      <th>wRC+</th>\n",
              "    </tr>\n",
              "  </thead>\n",
              "  <tbody>\n",
              "    <tr>\n",
              "      <th>0</th>\n",
              "      <td>HOU</td>\n",
              "      <td>6271</td>\n",
              "      <td>8.1%</td>\n",
              "      <td>17.3%</td>\n",
              "      <td>0.47</td>\n",
              "      <td>0.282</td>\n",
              "      <td>0.346</td>\n",
              "      <td>0.478</td>\n",
              "      <td>0.823</td>\n",
              "      <td>0.196</td>\n",
              "      <td>4.5</td>\n",
              "      <td>0.309</td>\n",
              "      <td>3.2</td>\n",
              "      <td>-1.6</td>\n",
              "      <td>-2.0</td>\n",
              "      <td>911</td>\n",
              "      <td>146.8</td>\n",
              "      <td>0.349</td>\n",
              "      <td>121</td>\n",
              "    </tr>\n",
              "  </tbody>\n",
              "</table>\n",
              "</div>\n",
              "      <button class=\"colab-df-convert\" onclick=\"convertToInteractive('df-b20c1ce7-7195-4e4b-8c99-0801e83a7aff')\"\n",
              "              title=\"Convert this dataframe to an interactive table.\"\n",
              "              style=\"display:none;\">\n",
              "        \n",
              "  <svg xmlns=\"http://www.w3.org/2000/svg\" height=\"24px\"viewBox=\"0 0 24 24\"\n",
              "       width=\"24px\">\n",
              "    <path d=\"M0 0h24v24H0V0z\" fill=\"none\"/>\n",
              "    <path d=\"M18.56 5.44l.94 2.06.94-2.06 2.06-.94-2.06-.94-.94-2.06-.94 2.06-2.06.94zm-11 1L8.5 8.5l.94-2.06 2.06-.94-2.06-.94L8.5 2.5l-.94 2.06-2.06.94zm10 10l.94 2.06.94-2.06 2.06-.94-2.06-.94-.94-2.06-.94 2.06-2.06.94z\"/><path d=\"M17.41 7.96l-1.37-1.37c-.4-.4-.92-.59-1.43-.59-.52 0-1.04.2-1.43.59L10.3 9.45l-7.72 7.72c-.78.78-.78 2.05 0 2.83L4 21.41c.39.39.9.59 1.41.59.51 0 1.02-.2 1.41-.59l7.78-7.78 2.81-2.81c.8-.78.8-2.07 0-2.86zM5.41 20L4 18.59l7.72-7.72 1.47 1.35L5.41 20z\"/>\n",
              "  </svg>\n",
              "      </button>\n",
              "      \n",
              "  <style>\n",
              "    .colab-df-container {\n",
              "      display:flex;\n",
              "      flex-wrap:wrap;\n",
              "      gap: 12px;\n",
              "    }\n",
              "\n",
              "    .colab-df-convert {\n",
              "      background-color: #E8F0FE;\n",
              "      border: none;\n",
              "      border-radius: 50%;\n",
              "      cursor: pointer;\n",
              "      display: none;\n",
              "      fill: #1967D2;\n",
              "      height: 32px;\n",
              "      padding: 0 0 0 0;\n",
              "      width: 32px;\n",
              "    }\n",
              "\n",
              "    .colab-df-convert:hover {\n",
              "      background-color: #E2EBFA;\n",
              "      box-shadow: 0px 1px 2px rgba(60, 64, 67, 0.3), 0px 1px 3px 1px rgba(60, 64, 67, 0.15);\n",
              "      fill: #174EA6;\n",
              "    }\n",
              "\n",
              "    [theme=dark] .colab-df-convert {\n",
              "      background-color: #3B4455;\n",
              "      fill: #D2E3FC;\n",
              "    }\n",
              "\n",
              "    [theme=dark] .colab-df-convert:hover {\n",
              "      background-color: #434B5C;\n",
              "      box-shadow: 0px 1px 3px 1px rgba(0, 0, 0, 0.15);\n",
              "      filter: drop-shadow(0px 1px 2px rgba(0, 0, 0, 0.3));\n",
              "      fill: #FFFFFF;\n",
              "    }\n",
              "  </style>\n",
              "\n",
              "      <script>\n",
              "        const buttonEl =\n",
              "          document.querySelector('#df-b20c1ce7-7195-4e4b-8c99-0801e83a7aff button.colab-df-convert');\n",
              "        buttonEl.style.display =\n",
              "          google.colab.kernel.accessAllowed ? 'block' : 'none';\n",
              "\n",
              "        async function convertToInteractive(key) {\n",
              "          const element = document.querySelector('#df-b20c1ce7-7195-4e4b-8c99-0801e83a7aff');\n",
              "          const dataTable =\n",
              "            await google.colab.kernel.invokeFunction('convertToInteractive',\n",
              "                                                     [key], {});\n",
              "          if (!dataTable) return;\n",
              "\n",
              "          const docLinkHtml = 'Like what you see? Visit the ' +\n",
              "            '<a target=\"_blank\" href=https://colab.research.google.com/notebooks/data_table.ipynb>data table notebook</a>'\n",
              "            + ' to learn more about interactive tables.';\n",
              "          element.innerHTML = '';\n",
              "          dataTable['output_type'] = 'display_data';\n",
              "          await google.colab.output.renderOutput(dataTable, element);\n",
              "          const docLink = document.createElement('div');\n",
              "          docLink.innerHTML = docLinkHtml;\n",
              "          element.appendChild(docLink);\n",
              "        }\n",
              "      </script>\n",
              "    </div>\n",
              "  </div>\n",
              "  "
            ]
          },
          "metadata": {},
          "execution_count": 11
        }
      ]
    },
    {
      "cell_type": "code",
      "source": [
        "df2016 # 2016 Astros team batting stats"
      ],
      "metadata": {
        "colab": {
          "base_uri": "https://localhost:8080/",
          "height": 81
        },
        "id": "Uqj1aMNud4fV",
        "outputId": "aa7863ff-be1e-426b-f0c1-b05f1aedcb33"
      },
      "execution_count": null,
      "outputs": [
        {
          "output_type": "execute_result",
          "data": {
            "text/plain": [
              "  Team    PA   BB%     K%  BB/K    AVG    OBP    SLG    OPS   ISO  Spd  BABIP  \\\n",
              "0  HOU  6204  8.9%  23.4%  0.38  0.247  0.319  0.417  0.735  0.17  4.5  0.298   \n",
              "\n",
              "   UBR  wGDP  wSB  wRC  wRAA   wOBA  wRC+  \n",
              "0 -0.3  -4.3 -0.8  724  -7.4  0.317   101  "
            ],
            "text/html": [
              "\n",
              "  <div id=\"df-56760c3b-50b2-452e-b8a3-4536f095f504\">\n",
              "    <div class=\"colab-df-container\">\n",
              "      <div>\n",
              "<style scoped>\n",
              "    .dataframe tbody tr th:only-of-type {\n",
              "        vertical-align: middle;\n",
              "    }\n",
              "\n",
              "    .dataframe tbody tr th {\n",
              "        vertical-align: top;\n",
              "    }\n",
              "\n",
              "    .dataframe thead th {\n",
              "        text-align: right;\n",
              "    }\n",
              "</style>\n",
              "<table border=\"1\" class=\"dataframe\">\n",
              "  <thead>\n",
              "    <tr style=\"text-align: right;\">\n",
              "      <th></th>\n",
              "      <th>Team</th>\n",
              "      <th>PA</th>\n",
              "      <th>BB%</th>\n",
              "      <th>K%</th>\n",
              "      <th>BB/K</th>\n",
              "      <th>AVG</th>\n",
              "      <th>OBP</th>\n",
              "      <th>SLG</th>\n",
              "      <th>OPS</th>\n",
              "      <th>ISO</th>\n",
              "      <th>Spd</th>\n",
              "      <th>BABIP</th>\n",
              "      <th>UBR</th>\n",
              "      <th>wGDP</th>\n",
              "      <th>wSB</th>\n",
              "      <th>wRC</th>\n",
              "      <th>wRAA</th>\n",
              "      <th>wOBA</th>\n",
              "      <th>wRC+</th>\n",
              "    </tr>\n",
              "  </thead>\n",
              "  <tbody>\n",
              "    <tr>\n",
              "      <th>0</th>\n",
              "      <td>HOU</td>\n",
              "      <td>6204</td>\n",
              "      <td>8.9%</td>\n",
              "      <td>23.4%</td>\n",
              "      <td>0.38</td>\n",
              "      <td>0.247</td>\n",
              "      <td>0.319</td>\n",
              "      <td>0.417</td>\n",
              "      <td>0.735</td>\n",
              "      <td>0.17</td>\n",
              "      <td>4.5</td>\n",
              "      <td>0.298</td>\n",
              "      <td>-0.3</td>\n",
              "      <td>-4.3</td>\n",
              "      <td>-0.8</td>\n",
              "      <td>724</td>\n",
              "      <td>-7.4</td>\n",
              "      <td>0.317</td>\n",
              "      <td>101</td>\n",
              "    </tr>\n",
              "  </tbody>\n",
              "</table>\n",
              "</div>\n",
              "      <button class=\"colab-df-convert\" onclick=\"convertToInteractive('df-56760c3b-50b2-452e-b8a3-4536f095f504')\"\n",
              "              title=\"Convert this dataframe to an interactive table.\"\n",
              "              style=\"display:none;\">\n",
              "        \n",
              "  <svg xmlns=\"http://www.w3.org/2000/svg\" height=\"24px\"viewBox=\"0 0 24 24\"\n",
              "       width=\"24px\">\n",
              "    <path d=\"M0 0h24v24H0V0z\" fill=\"none\"/>\n",
              "    <path d=\"M18.56 5.44l.94 2.06.94-2.06 2.06-.94-2.06-.94-.94-2.06-.94 2.06-2.06.94zm-11 1L8.5 8.5l.94-2.06 2.06-.94-2.06-.94L8.5 2.5l-.94 2.06-2.06.94zm10 10l.94 2.06.94-2.06 2.06-.94-2.06-.94-.94-2.06-.94 2.06-2.06.94z\"/><path d=\"M17.41 7.96l-1.37-1.37c-.4-.4-.92-.59-1.43-.59-.52 0-1.04.2-1.43.59L10.3 9.45l-7.72 7.72c-.78.78-.78 2.05 0 2.83L4 21.41c.39.39.9.59 1.41.59.51 0 1.02-.2 1.41-.59l7.78-7.78 2.81-2.81c.8-.78.8-2.07 0-2.86zM5.41 20L4 18.59l7.72-7.72 1.47 1.35L5.41 20z\"/>\n",
              "  </svg>\n",
              "      </button>\n",
              "      \n",
              "  <style>\n",
              "    .colab-df-container {\n",
              "      display:flex;\n",
              "      flex-wrap:wrap;\n",
              "      gap: 12px;\n",
              "    }\n",
              "\n",
              "    .colab-df-convert {\n",
              "      background-color: #E8F0FE;\n",
              "      border: none;\n",
              "      border-radius: 50%;\n",
              "      cursor: pointer;\n",
              "      display: none;\n",
              "      fill: #1967D2;\n",
              "      height: 32px;\n",
              "      padding: 0 0 0 0;\n",
              "      width: 32px;\n",
              "    }\n",
              "\n",
              "    .colab-df-convert:hover {\n",
              "      background-color: #E2EBFA;\n",
              "      box-shadow: 0px 1px 2px rgba(60, 64, 67, 0.3), 0px 1px 3px 1px rgba(60, 64, 67, 0.15);\n",
              "      fill: #174EA6;\n",
              "    }\n",
              "\n",
              "    [theme=dark] .colab-df-convert {\n",
              "      background-color: #3B4455;\n",
              "      fill: #D2E3FC;\n",
              "    }\n",
              "\n",
              "    [theme=dark] .colab-df-convert:hover {\n",
              "      background-color: #434B5C;\n",
              "      box-shadow: 0px 1px 3px 1px rgba(0, 0, 0, 0.15);\n",
              "      filter: drop-shadow(0px 1px 2px rgba(0, 0, 0, 0.3));\n",
              "      fill: #FFFFFF;\n",
              "    }\n",
              "  </style>\n",
              "\n",
              "      <script>\n",
              "        const buttonEl =\n",
              "          document.querySelector('#df-56760c3b-50b2-452e-b8a3-4536f095f504 button.colab-df-convert');\n",
              "        buttonEl.style.display =\n",
              "          google.colab.kernel.accessAllowed ? 'block' : 'none';\n",
              "\n",
              "        async function convertToInteractive(key) {\n",
              "          const element = document.querySelector('#df-56760c3b-50b2-452e-b8a3-4536f095f504');\n",
              "          const dataTable =\n",
              "            await google.colab.kernel.invokeFunction('convertToInteractive',\n",
              "                                                     [key], {});\n",
              "          if (!dataTable) return;\n",
              "\n",
              "          const docLinkHtml = 'Like what you see? Visit the ' +\n",
              "            '<a target=\"_blank\" href=https://colab.research.google.com/notebooks/data_table.ipynb>data table notebook</a>'\n",
              "            + ' to learn more about interactive tables.';\n",
              "          element.innerHTML = '';\n",
              "          dataTable['output_type'] = 'display_data';\n",
              "          await google.colab.output.renderOutput(dataTable, element);\n",
              "          const docLink = document.createElement('div');\n",
              "          docLink.innerHTML = docLinkHtml;\n",
              "          element.appendChild(docLink);\n",
              "        }\n",
              "      </script>\n",
              "    </div>\n",
              "  </div>\n",
              "  "
            ]
          },
          "metadata": {},
          "execution_count": 12
        }
      ]
    },
    {
      "cell_type": "code",
      "source": [
        "# compute the differences in the 2017 and 2016 batting stats\n",
        "\n",
        "diff_avg = df2017['AVG'].iloc[0] - df2016['AVG'].iloc[0]\n",
        "diff_ops = df2017['OPS'].iloc[0] - df2016['OPS'].iloc[0]\n",
        "diff_slg = df2017['SLG'].iloc[0] - df2016['SLG'].iloc[0]\n",
        "diff_woba = df2017['wOBA'].iloc[0] - df2016['wOBA'].iloc[0]\n",
        "diff_wrc = df2017['wRC'].iloc[0] - df2016['wRC'].iloc[0]\n",
        "diff_babip = df2017['BABIP'].iloc[0] - df2016['BABIP'].iloc[0]\n",
        "diff_wraa = df2017['wRAA'].iloc[0] - df2016['wRAA'].iloc[0]\n"
      ],
      "metadata": {
        "id": "JQCh0NGXc_7T"
      },
      "execution_count": null,
      "outputs": []
    },
    {
      "cell_type": "code",
      "source": [
        "# Print out the differences\n",
        "\n",
        "print(\"Difference in AVG: {:.3f}\".format(diff_avg))\n",
        "print(\"Difference in OPS: {:.3f}\".format(diff_ops))\n",
        "print(\"Difference in SLG: {:.3f}\".format(diff_slg))\n",
        "print(\"Difference in wOBA: {:.3f}\".format(diff_woba))\n",
        "print(\"Difference in wRC: {:.3f}\".format(diff_wrc))\n",
        "print(\"Difference in BABIP: {:.3f}\".format(diff_babip))\n",
        "print(\"Difference in wRAA: {:.3f}\".format(diff_wraa))\n"
      ],
      "metadata": {
        "colab": {
          "base_uri": "https://localhost:8080/"
        },
        "id": "mpeYkr45dFNz",
        "outputId": "5c06e530-724b-4144-ec89-82c098440392"
      },
      "execution_count": null,
      "outputs": [
        {
          "output_type": "stream",
          "name": "stdout",
          "text": [
            "Difference in AVG: 0.035\n",
            "Difference in OPS: 0.088\n",
            "Difference in SLG: 0.061\n",
            "Difference in wOBA: 0.032\n",
            "Difference in wRC: 187.000\n",
            "Difference in BABIP: 0.011\n",
            "Difference in wRAA: 154.200\n"
          ]
        }
      ]
    }
  ]
}